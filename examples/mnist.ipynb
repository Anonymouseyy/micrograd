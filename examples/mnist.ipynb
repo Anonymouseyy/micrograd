{
 "cells": [
  {
   "cell_type": "code",
   "execution_count": 1,
   "metadata": {},
   "outputs": [],
   "source": [
    "from sklearn.datasets import fetch_openml\n",
    "\n",
    "mnist = fetch_openml('mnist_784', version=1)\n",
    "X, y = mnist.data, mnist.target"
   ]
  },
  {
   "cell_type": "code",
   "execution_count": null,
   "metadata": {},
   "outputs": [],
   "source": [
    "import matplotlib.pyplot as plt\n",
    "\n",
    "# Reshape one sample to 28x28 and plot first 10 images\n",
    "fig, axes = plt.subplots(1, 10, figsize=(10, 3))\n",
    "for i, ax in enumerate(axes):\n",
    "    ax.imshow(X.iloc[i].values.reshape(28, 28), cmap='gray')\n",
    "    ax.axis('off')\n",
    "    ax.set_title(y[i])\n",
    "\n",
    "plt.show()\n",
    "X = X/255\n",
    "X = [X.iloc[i].values.reshape(28, 28).tolist() for i in range(X.shape[0])]\n",
    "y = y.tolist()\n",
    "print(f'X: {len(X)}  Y: {len(y)}')"
   ]
  },
  {
   "cell_type": "code",
   "execution_count": 3,
   "metadata": {},
   "outputs": [],
   "source": [
    "import sys\n",
    "import os\n",
    "\n",
    "sys.path.append(os.path.abspath(\"..\"))\n",
    "\n",
    "from graphviz import Digraph\n",
    "from src.nn import CNN\n",
    "import random\n",
    "\n",
    "network = CNN([(28, 28), (3, 3), 2], [32, 16, 10])"
   ]
  },
  {
   "cell_type": "code",
   "execution_count": 4,
   "metadata": {},
   "outputs": [],
   "source": [
    "# Tracing and drawing graph\n",
    "\n",
    "def trace(root):\n",
    "    nodes, edges = set(), set()\n",
    "    param_nodes = network.parameters()\n",
    "    def build(node):\n",
    "        if node not in nodes:\n",
    "            nodes.add(node)\n",
    "\n",
    "            if len(node._prev) == 0 and node not in param_nodes:\n",
    "                node.label = \"input\"\n",
    "\n",
    "            for n in node._prev:\n",
    "                edges.add((n, node))\n",
    "                build(n)\n",
    "    \n",
    "    build(root)\n",
    "    return nodes, edges\n",
    "\n",
    "def build_dot(root):\n",
    "    dot = Digraph(format='svg', graph_attr={'rankdir': 'LR'}) # Left to right graph\n",
    "\n",
    "    nodes, edges = trace(root)\n",
    "    for node in nodes:\n",
    "        uid = str(id(node))\n",
    "\n",
    "        dot.node(name=uid, label=f'{node.label} | data {node.data:.4f} | grad {node.grad:.4f}', shape='record')\n",
    "\n",
    "        if node._op:\n",
    "            dot.node(name=uid+node._op, label=node._op)\n",
    "            dot.edge(uid+node._op, uid)\n",
    "    \n",
    "    for n1, n2 in edges:\n",
    "        dot.edge(str(id(n1)), str(id(n2))+n2._op)\n",
    "    \n",
    "    return dot"
   ]
  },
  {
   "cell_type": "code",
   "execution_count": 5,
   "metadata": {},
   "outputs": [],
   "source": [
    "def fetch_training_data(n=1000):\n",
    "    r = random.randrange(0, 50000-n)\n",
    "    return X[r:r+n], y[r:r+n]\n",
    "\n",
    "def fetch_testing_data(n=1000):\n",
    "    r = random.randrange(50000, 70000-n)\n",
    "    return X[r:r+n], y[r:r+n]\n",
    "\n",
    "def actual_inference(n):\n",
    "    return [1 if i == n else 0 for i in range(10)]"
   ]
  },
  {
   "cell_type": "code",
   "execution_count": 6,
   "metadata": {},
   "outputs": [],
   "source": [
    "# x_samp, y_samp = X[1], y[1]\n",
    "\n",
    "# L = (network(x_samp)-targets[int(y_samp)])**2\n",
    "# build_dot(L)"
   ]
  },
  {
   "cell_type": "code",
   "execution_count": null,
   "metadata": {},
   "outputs": [],
   "source": [
    "training_cycles = 10\n",
    "step = 0.005\n",
    "exp_decay_factor = 0.95\n",
    "batch_size = 100\n",
    "\n",
    "for i in range(training_cycles):\n",
    "    x_batch, y_batch = fetch_training_data(batch_size)\n",
    "\n",
    "    outs = [network(ins) for ins in x_batch]\n",
    "    print(outs)\n",
    "    L = sum(sum((o-a)**2 for o, a in zip(out, actual_inference(int(exp)))) for out, exp in zip(outs, y_batch))\n",
    "\n",
    "    for p in network.parameters(): # Make sure to zero the grads!\n",
    "        p.grad = 0\n",
    "    \n",
    "    L.backward() # Backward step\n",
    "\n",
    "    for p in network.parameters(): # Modify weights based on grads\n",
    "        p.data += -(step * exp_decay_factor)**i * p.grad\n",
    "    \n",
    "    print(f'Training step {i+1}: {L.data} loss')"
   ]
  },
  {
   "cell_type": "code",
   "execution_count": null,
   "metadata": {},
   "outputs": [],
   "source": [
    "test = 100\n",
    "correct = 0\n",
    "x_batch, y_batch = fetch_testing_data(test)\n",
    "for i in range(len(x_batch)):\n",
    "    pred, actual = network(x_batch[i]), int(y_batch[i])\n",
    "    print(f'Predicted: {pred}; Actual: {actual}')\n",
    "\n",
    "    #if check_target(pred) == actual:\n",
    "        #correct += 1\n",
    "    \n",
    "print(f'Predicted {correct} out of {test}')"
   ]
  }
 ],
 "metadata": {
  "kernelspec": {
   "display_name": ".venv",
   "language": "python",
   "name": "python3"
  },
  "language_info": {
   "codemirror_mode": {
    "name": "ipython",
    "version": 3
   },
   "file_extension": ".py",
   "mimetype": "text/x-python",
   "name": "python",
   "nbconvert_exporter": "python",
   "pygments_lexer": "ipython3",
   "version": "3.13.1"
  }
 },
 "nbformat": 4,
 "nbformat_minor": 2
}
