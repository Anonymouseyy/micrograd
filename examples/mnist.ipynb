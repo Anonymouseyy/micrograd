{
 "cells": [
  {
   "cell_type": "code",
   "execution_count": 1,
   "metadata": {},
   "outputs": [],
   "source": [
    "from sklearn.datasets import fetch_openml\n",
    "\n",
    "mnist = fetch_openml('mnist_784', version=1)\n",
    "X, y = mnist.data, mnist.target"
   ]
  },
  {
   "cell_type": "code",
   "execution_count": 2,
   "metadata": {},
   "outputs": [
    {
     "data": {
      "image/png": "[encoded data removed]",
      "text/plain": [
       "<Figure size 1000x300 with 10 Axes>"
      ]
     },
     "metadata": {},
     "output_type": "display_data"
    },
    {
     "name": "stdout",
     "output_type": "stream",
     "text": [
      "X: 70000  Y: 70000\n"
     ]
    }
   ],
   "source": [
    "import matplotlib.pyplot as plt\n",
    "\n",
    "# Reshape one sample to 28x28 and plot first 10 images\n",
    "fig, axes = plt.subplots(1, 10, figsize=(10, 3))\n",
    "for i, ax in enumerate(axes):\n",
    "    ax.imshow(X.iloc[i].values.reshape(28, 28), cmap='gray')\n",
    "    ax.axis('off')\n",
    "    ax.set_title(y[i])\n",
    "\n",
    "plt.show()\n",
    "X = X/255\n",
    "X = [X.iloc[i].values.reshape(28, 28).tolist() for i in range(X.shape[0])]\n",
    "y = y.tolist()\n",
    "print(f'X: {len(X)}  Y: {len(y)}')"
   ]
  },
  {
   "cell_type": "code",
   "execution_count": 3,
   "metadata": {},
   "outputs": [],
   "source": [
    "import sys\n",
    "import os\n",
    "\n",
    "sys.path.append(os.path.abspath(\"..\"))\n",
    "\n",
    "from graphviz import Digraph\n",
    "from src.nn import CNN\n",
    "import random\n",
    "\n",
    "network = CNN([(28, 28), (3, 3), 2], [32, 16, 1])"
   ]
  },
  {
   "cell_type": "code",
   "execution_count": 4,
   "metadata": {},
   "outputs": [],
   "source": [
    "# Tracing and drawing graph\n",
    "\n",
    "def trace(root):\n",
    "    nodes, edges = set(), set()\n",
    "    param_nodes = network.parameters()\n",
    "    def build(node):\n",
    "        if node not in nodes:\n",
    "            nodes.add(node)\n",
    "\n",
    "            if len(node._prev) == 0 and node not in param_nodes:\n",
    "                node.label = \"input\"\n",
    "\n",
    "            for n in node._prev:\n",
    "                edges.add((n, node))\n",
    "                build(n)\n",
    "    \n",
    "    build(root)\n",
    "    return nodes, edges\n",
    "\n",
    "def build_dot(root):\n",
    "    dot = Digraph(format='svg', graph_attr={'rankdir': 'LR'}) # Left to right graph\n",
    "\n",
    "    nodes, edges = trace(root)\n",
    "    for node in nodes:\n",
    "        uid = str(id(node))\n",
    "\n",
    "        dot.node(name=uid, label=f'{node.label} | data {node.data:.4f} | grad {node.grad:.4f}', shape='record')\n",
    "\n",
    "        if node._op:\n",
    "            dot.node(name=uid+node._op, label=node._op)\n",
    "            dot.edge(uid+node._op, uid)\n",
    "    \n",
    "    for n1, n2 in edges:\n",
    "        dot.edge(str(id(n1)), str(id(n2))+n2._op)\n",
    "    \n",
    "    return dot"
   ]
  },
  {
   "cell_type": "code",
   "execution_count": 5,
   "metadata": {},
   "outputs": [],
   "source": [
    "targets = [-0.9+0.2*x for x in range(10)]\n",
    "\n",
    "def fetch_training_data(n=1000):\n",
    "    r = random.randrange(0, 50000-n)\n",
    "    return X[r:r+n], y[r:r+n]\n",
    "\n",
    "def fetch_testing_data(n=1000):\n",
    "    r = random.randrange(50000, 70000-n)\n",
    "    return X[r:r+n], y[r:r+n]\n",
    "\n",
    "def check_target(x):\n",
    "    for i in range(len(targets)):\n",
    "        if targets[i]-0.1 < x.data < targets[i]+0.1:\n",
    "            return i"
   ]
  },
  {
   "cell_type": "code",
   "execution_count": 6,
   "metadata": {},
   "outputs": [],
   "source": [
    "# x_samp, y_samp = X[1], y[1]\n",
    "\n",
    "# L = (network(x_samp)-targets[int(y_samp)])**2\n",
    "# build_dot(L)"
   ]
  },
  {
   "cell_type": "code",
   "execution_count": 7,
   "metadata": {},
   "outputs": [
    {
     "name": "stdout",
     "output_type": "stream",
     "text": [
      "[Value(data=-0.8528421468818155, grad=0.0), Value(data=-0.6707131755190231, grad=0.0), Value(data=-0.8731696979311213, grad=0.0), Value(data=-0.19766655905998473, grad=0.0), Value(data=-0.5954599601709375, grad=0.0), Value(data=-0.897869933870752, grad=0.0), Value(data=-0.9655789998109973, grad=0.0), Value(data=-0.3873883227675037, grad=0.0), Value(data=-0.9903219556945976, grad=0.0), Value(data=-0.5029430077034873, grad=0.0), Value(data=-0.8767465435223858, grad=0.0), Value(data=0.4312440622861041, grad=0.0), Value(data=-0.3798002596713226, grad=0.0), Value(data=-0.4618898233166412, grad=0.0), Value(data=-0.61894618046654, grad=0.0), Value(data=-0.11103154352354926, grad=0.0), Value(data=-0.4437852366126916, grad=0.0), Value(data=0.3276349294131238, grad=0.0), Value(data=-0.8416419339008707, grad=0.0), Value(data=-0.675269435672507, grad=0.0), Value(data=0.9803195278157995, grad=0.0), Value(data=-0.9967438100533622, grad=0.0), Value(data=-0.890405958439264, grad=0.0), Value(data=-0.8423200184422313, grad=0.0), Value(data=0.25499280569198407, grad=0.0), Value(data=0.7802930836880594, grad=0.0), Value(data=-0.2495015911489674, grad=0.0), Value(data=-0.8809451318266919, grad=0.0), Value(data=0.9908524565730454, grad=0.0), Value(data=0.2407759001229971, grad=0.0), Value(data=-0.811016827271162, grad=0.0), Value(data=-0.8660708772166686, grad=0.0), Value(data=0.7947016308102213, grad=0.0), Value(data=-0.6170806992313245, grad=0.0), Value(data=-0.9416136531290432, grad=0.0), Value(data=-0.034345610859261036, grad=0.0), Value(data=0.6115041782463039, grad=0.0), Value(data=0.9037437782390901, grad=0.0), Value(data=-0.44078531565983115, grad=0.0), Value(data=-0.8022737930579139, grad=0.0), Value(data=-0.110657241984073, grad=0.0), Value(data=0.8154660032258308, grad=0.0), Value(data=-0.6913638035605552, grad=0.0), Value(data=0.9655761507151648, grad=0.0), Value(data=0.676961244869904, grad=0.0), Value(data=-0.318906400876271, grad=0.0), Value(data=0.17367981388345807, grad=0.0), Value(data=-0.6595956782920717, grad=0.0), Value(data=-0.9262207449348819, grad=0.0), Value(data=-0.8964898763030161, grad=0.0), Value(data=-0.9794785735036132, grad=0.0), Value(data=-0.6331898742410937, grad=0.0), Value(data=0.6031173016979121, grad=0.0), Value(data=0.8938823915989811, grad=0.0), Value(data=-0.8978229909324666, grad=0.0), Value(data=0.5417681828602279, grad=0.0), Value(data=-0.8274422206232755, grad=0.0), Value(data=0.9295452158876496, grad=0.0), Value(data=-0.5649811203008587, grad=0.0), Value(data=-0.12061552921006517, grad=0.0), Value(data=0.24737649919424662, grad=0.0), Value(data=0.9671586795638989, grad=0.0), Value(data=-0.9158422110309128, grad=0.0), Value(data=0.9233957943648962, grad=0.0), Value(data=-0.494577210424155, grad=0.0), Value(data=0.81316133710268, grad=0.0), Value(data=0.38122108269138577, grad=0.0), Value(data=0.43297900262626715, grad=0.0), Value(data=0.9824492059628239, grad=0.0), Value(data=0.20589624704038353, grad=0.0), Value(data=-0.6030368193174607, grad=0.0), Value(data=-0.5812074060653416, grad=0.0), Value(data=0.9457195796266276, grad=0.0), Value(data=0.8576344549533151, grad=0.0), Value(data=0.7990490582403175, grad=0.0), Value(data=0.9376131892939027, grad=0.0), Value(data=0.010814501856905396, grad=0.0), Value(data=0.2534343931230264, grad=0.0), Value(data=0.27682731343801, grad=0.0), Value(data=0.8071342066679855, grad=0.0), Value(data=0.9608846543332366, grad=0.0), Value(data=0.8839391697996303, grad=0.0), Value(data=-0.8118024498492602, grad=0.0), Value(data=0.9153397262552099, grad=0.0), Value(data=0.058398033301274486, grad=0.0), Value(data=0.03504012083639285, grad=0.0), Value(data=-0.6473027014119895, grad=0.0), Value(data=0.6449596038493994, grad=0.0), Value(data=-0.8129003837390169, grad=0.0), Value(data=0.582535458659287, grad=0.0), Value(data=0.63293295343409, grad=0.0), Value(data=-0.16481704888839166, grad=0.0), Value(data=-0.4274113403619331, grad=0.0), Value(data=0.9896707369833189, grad=0.0), Value(data=0.20623086356183468, grad=0.0), Value(data=-0.9397196362779249, grad=0.0), Value(data=-0.2313859316620606, grad=0.0), Value(data=0.11023730134146124, grad=0.0), Value(data=0.27274463343808764, grad=0.0), Value(data=0.9665254285760745, grad=0.0)]\n",
      "Training step 1: 57.246815684624 loss\n"
     ]
    },
    {
     "ename": "OverflowError",
     "evalue": "math range error",
     "output_type": "error",
     "traceback": [
      "\u001b[0;31m---------------------------------------------------------------------------\u001b[0m",
      "\u001b[0;31mOverflowError\u001b[0m                             Traceback (most recent call last)",
      "Cell \u001b[0;32mIn[7], line 9\u001b[0m\n\u001b[1;32m      6\u001b[0m \u001b[38;5;28;01mfor\u001b[39;00m i \u001b[38;5;129;01min\u001b[39;00m \u001b[38;5;28mrange\u001b[39m(training_cycles):\n\u001b[1;32m      7\u001b[0m     x_batch, y_batch \u001b[38;5;241m=\u001b[39m fetch_training_data(batch_size)\n\u001b[0;32m----> 9\u001b[0m     outs \u001b[38;5;241m=\u001b[39m [\u001b[43mnetwork\u001b[49m\u001b[43m(\u001b[49m\u001b[43mins\u001b[49m\u001b[43m)\u001b[49m \u001b[38;5;28;01mfor\u001b[39;00m ins \u001b[38;5;129;01min\u001b[39;00m x_batch]\n\u001b[1;32m     10\u001b[0m     \u001b[38;5;28mprint\u001b[39m(outs)\n\u001b[1;32m     11\u001b[0m     L \u001b[38;5;241m=\u001b[39m \u001b[38;5;28msum\u001b[39m((out\u001b[38;5;241m-\u001b[39mtargets[\u001b[38;5;28mint\u001b[39m(exp)])\u001b[38;5;241m*\u001b[39m\u001b[38;5;241m*\u001b[39m\u001b[38;5;241m2\u001b[39m \u001b[38;5;28;01mfor\u001b[39;00m out, exp \u001b[38;5;129;01min\u001b[39;00m \u001b[38;5;28mzip\u001b[39m(outs, y_batch))\n",
      "File \u001b[0;32m~/Documents/VSCode Projects/micrograd/src/nn.py:78\u001b[0m, in \u001b[0;36mCNN.__call__\u001b[0;34m(self, x)\u001b[0m\n\u001b[1;32m     76\u001b[0m \u001b[38;5;28;01mdef\u001b[39;00m \u001b[38;5;21m__call__\u001b[39m(\u001b[38;5;28mself\u001b[39m, x):\n\u001b[1;32m     77\u001b[0m     x \u001b[38;5;241m=\u001b[39m \u001b[38;5;28mself\u001b[39m\u001b[38;5;241m.\u001b[39mconv_layer(x)\n\u001b[0;32m---> 78\u001b[0m     x \u001b[38;5;241m=\u001b[39m \u001b[38;5;28;43mself\u001b[39;49m\u001b[38;5;241;43m.\u001b[39;49m\u001b[43mMLP\u001b[49m\u001b[43m(\u001b[49m\u001b[43mx\u001b[49m\u001b[43m)\u001b[49m\n\u001b[1;32m     79\u001b[0m     \u001b[38;5;28;01mreturn\u001b[39;00m x\n",
      "File \u001b[0;32m~/Documents/VSCode Projects/micrograd/src/nn.py:65\u001b[0m, in \u001b[0;36mMLP.__call__\u001b[0;34m(self, x)\u001b[0m\n\u001b[1;32m     62\u001b[0m \u001b[38;5;28;01massert\u001b[39;00m \u001b[38;5;28mlen\u001b[39m(x) \u001b[38;5;241m==\u001b[39m \u001b[38;5;28mself\u001b[39m\u001b[38;5;241m.\u001b[39mnin, \u001b[38;5;124m\"\u001b[39m\u001b[38;5;124mneed same amount of inputs lists as neuron inputs\u001b[39m\u001b[38;5;124m\"\u001b[39m\n\u001b[1;32m     64\u001b[0m \u001b[38;5;28;01mfor\u001b[39;00m layer \u001b[38;5;129;01min\u001b[39;00m \u001b[38;5;28mself\u001b[39m\u001b[38;5;241m.\u001b[39mlayers:\n\u001b[0;32m---> 65\u001b[0m     x \u001b[38;5;241m=\u001b[39m \u001b[43mlayer\u001b[49m\u001b[43m(\u001b[49m\u001b[43mx\u001b[49m\u001b[43m)\u001b[49m\n\u001b[1;32m     66\u001b[0m \u001b[38;5;28;01mreturn\u001b[39;00m x\n",
      "File \u001b[0;32m~/Documents/VSCode Projects/micrograd/src/nn.py:26\u001b[0m, in \u001b[0;36mLayer.__call__\u001b[0;34m(self, x)\u001b[0m\n\u001b[1;32m     25\u001b[0m \u001b[38;5;28;01mdef\u001b[39;00m \u001b[38;5;21m__call__\u001b[39m(\u001b[38;5;28mself\u001b[39m, x):\n\u001b[0;32m---> 26\u001b[0m     outs \u001b[38;5;241m=\u001b[39m [\u001b[43mn\u001b[49m\u001b[43m(\u001b[49m\u001b[43mx\u001b[49m\u001b[43m)\u001b[49m \u001b[38;5;28;01mfor\u001b[39;00m n \u001b[38;5;129;01min\u001b[39;00m \u001b[38;5;28mself\u001b[39m\u001b[38;5;241m.\u001b[39mneurons]\n\u001b[1;32m     27\u001b[0m     \u001b[38;5;28;01mreturn\u001b[39;00m outs[\u001b[38;5;241m0\u001b[39m] \u001b[38;5;28;01mif\u001b[39;00m \u001b[38;5;28mlen\u001b[39m(outs) \u001b[38;5;241m==\u001b[39m \u001b[38;5;241m1\u001b[39m \u001b[38;5;28;01melse\u001b[39;00m outs\n",
      "File \u001b[0;32m~/Documents/VSCode Projects/micrograd/src/nn.py:14\u001b[0m, in \u001b[0;36mNeuron.__call__\u001b[0;34m(self, x)\u001b[0m\n\u001b[1;32m     11\u001b[0m \u001b[38;5;28;01massert\u001b[39;00m \u001b[38;5;28mlen\u001b[39m(x) \u001b[38;5;241m==\u001b[39m \u001b[38;5;28mlen\u001b[39m(\u001b[38;5;28mself\u001b[39m\u001b[38;5;241m.\u001b[39mw), \u001b[38;5;124m\"\u001b[39m\u001b[38;5;124mneed same amount of inputs as weights\u001b[39m\u001b[38;5;124m\"\u001b[39m\n\u001b[1;32m     13\u001b[0m act \u001b[38;5;241m=\u001b[39m \u001b[38;5;28msum\u001b[39m((wi\u001b[38;5;241m*\u001b[39mxi \u001b[38;5;28;01mfor\u001b[39;00m wi, xi \u001b[38;5;129;01min\u001b[39;00m \u001b[38;5;28mzip\u001b[39m(\u001b[38;5;28mself\u001b[39m\u001b[38;5;241m.\u001b[39mw, x)), \u001b[38;5;28mself\u001b[39m\u001b[38;5;241m.\u001b[39mb)\n\u001b[0;32m---> 14\u001b[0m out \u001b[38;5;241m=\u001b[39m \u001b[43mact\u001b[49m\u001b[38;5;241;43m.\u001b[39;49m\u001b[43mtanh\u001b[49m\u001b[43m(\u001b[49m\u001b[43m)\u001b[49m\n\u001b[1;32m     15\u001b[0m \u001b[38;5;28;01mreturn\u001b[39;00m out\n",
      "File \u001b[0;32m~/Documents/VSCode Projects/micrograd/src/value.py:65\u001b[0m, in \u001b[0;36mValue.tanh\u001b[0;34m(self)\u001b[0m\n\u001b[1;32m     63\u001b[0m \u001b[38;5;28;01mdef\u001b[39;00m \u001b[38;5;21mtanh\u001b[39m(\u001b[38;5;28mself\u001b[39m):\n\u001b[1;32m     64\u001b[0m     n \u001b[38;5;241m=\u001b[39m \u001b[38;5;28mself\u001b[39m\u001b[38;5;241m.\u001b[39mdata\n\u001b[0;32m---> 65\u001b[0m     t \u001b[38;5;241m=\u001b[39m (\u001b[43mmath\u001b[49m\u001b[38;5;241;43m.\u001b[39;49m\u001b[43mexp\u001b[49m\u001b[43m(\u001b[49m\u001b[38;5;241;43m2\u001b[39;49m\u001b[38;5;241;43m*\u001b[39;49m\u001b[43mn\u001b[49m\u001b[43m)\u001b[49m \u001b[38;5;241m-\u001b[39m \u001b[38;5;241m1\u001b[39m)\u001b[38;5;241m/\u001b[39m(math\u001b[38;5;241m.\u001b[39mexp(\u001b[38;5;241m2\u001b[39m\u001b[38;5;241m*\u001b[39mn) \u001b[38;5;241m+\u001b[39m \u001b[38;5;241m1\u001b[39m)\n\u001b[1;32m     66\u001b[0m     out \u001b[38;5;241m=\u001b[39m Value(t, (\u001b[38;5;28mself\u001b[39m, ), \u001b[38;5;124m'\u001b[39m\u001b[38;5;124mtanh\u001b[39m\u001b[38;5;124m'\u001b[39m)\n\u001b[1;32m     68\u001b[0m     \u001b[38;5;28;01mdef\u001b[39;00m \u001b[38;5;21m_backward\u001b[39m():\n",
      "\u001b[0;31mOverflowError\u001b[0m: math range error"
     ]
    }
   ],
   "source": [
    "training_cycles = 10\n",
    "step = 0.01\n",
    "exp_decay_factor = 0.95\n",
    "batch_size = 100\n",
    "\n",
    "for i in range(training_cycles):\n",
    "    x_batch, y_batch = fetch_training_data(batch_size)\n",
    "\n",
    "    outs = [network(ins) for ins in x_batch]\n",
    "    print(outs)\n",
    "    L = sum((out-targets[int(exp)])**2 for out, exp in zip(outs, y_batch))\n",
    "\n",
    "    for p in network.parameters(): # Make sure to zero the grads!\n",
    "        p.grad = 0\n",
    "    \n",
    "    L.backward() # Backward step\n",
    "\n",
    "    for p in network.parameters(): # Modify weights based on grads\n",
    "        p.data += -(step * exp_decay_factor)**i * p.grad\n",
    "    \n",
    "    print(f'Training step {i+1}: {L.data} loss')"
   ]
  },
  {
   "cell_type": "code",
   "execution_count": 16,
   "metadata": {},
   "outputs": [
    {
     "name": "stdout",
     "output_type": "stream",
     "text": [
      "Predicted: Value(data=-0.9999999999998797, grad=0.0); Actual: 0\n",
      "Predicted: Value(data=-0.9999999999998792, grad=0.0); Actual: 6\n",
      "Predicted: Value(data=-0.9999999999998792, grad=0.0); Actual: 2\n",
      "Predicted: Value(data=-0.9999999999998798, grad=0.0); Actual: 3\n",
      "Predicted: Value(data=-0.9999999999998795, grad=0.0); Actual: 1\n",
      "Predicted: Value(data=-0.9999999999998787, grad=0.0); Actual: 5\n",
      "Predicted: Value(data=-0.9999999999998797, grad=0.0); Actual: 1\n",
      "Predicted: Value(data=-0.9999999999998784, grad=0.0); Actual: 8\n",
      "Predicted: Value(data=-0.9999999999998792, grad=0.0); Actual: 5\n",
      "Predicted: Value(data=-0.9999999999998797, grad=0.0); Actual: 9\n",
      "Predicted: Value(data=-0.9999999999998797, grad=0.0); Actual: 4\n",
      "Predicted: Value(data=-0.9999999999998795, grad=0.0); Actual: 0\n",
      "Predicted: Value(data=-0.9999999999998792, grad=0.0); Actual: 7\n",
      "Predicted: Value(data=-0.9999999999998788, grad=0.0); Actual: 5\n",
      "Predicted: Value(data=-0.99999999999988, grad=0.0); Actual: 8\n",
      "Predicted: Value(data=-0.9999999999998783, grad=0.0); Actual: 8\n",
      "Predicted: Value(data=-0.9999999999998788, grad=0.0); Actual: 3\n",
      "Predicted: Value(data=-0.9999999999998809, grad=0.0); Actual: 8\n",
      "Predicted: Value(data=-0.99999999999988, grad=0.0); Actual: 9\n",
      "Predicted: Value(data=-0.9999999999998792, grad=0.0); Actual: 2\n",
      "Predicted: Value(data=-0.9999999999998795, grad=0.0); Actual: 6\n",
      "Predicted: Value(data=-0.9999999999998798, grad=0.0); Actual: 2\n",
      "Predicted: Value(data=-0.9999999999998801, grad=0.0); Actual: 5\n",
      "Predicted: Value(data=-0.9999999999998789, grad=0.0); Actual: 3\n",
      "Predicted: Value(data=-0.9999999999998795, grad=0.0); Actual: 1\n",
      "Predicted: Value(data=-0.9999999999998791, grad=0.0); Actual: 7\n",
      "Predicted: Value(data=-0.9999999999998792, grad=0.0); Actual: 3\n",
      "Predicted: Value(data=-0.9999999999998789, grad=0.0); Actual: 9\n",
      "Predicted: Value(data=-0.9999999999998795, grad=0.0); Actual: 1\n",
      "Predicted: Value(data=-0.9999999999998797, grad=0.0); Actual: 9\n",
      "Predicted: Value(data=-0.99999999999988, grad=0.0); Actual: 9\n",
      "Predicted: Value(data=-0.9999999999998791, grad=0.0); Actual: 6\n",
      "Predicted: Value(data=-0.9999999999998792, grad=0.0); Actual: 0\n",
      "Predicted: Value(data=-0.9999999999998783, grad=0.0); Actual: 3\n",
      "Predicted: Value(data=-0.9999999999998792, grad=0.0); Actual: 9\n",
      "Predicted: Value(data=-0.9999999999998795, grad=0.0); Actual: 2\n",
      "Predicted: Value(data=-0.9999999999998793, grad=0.0); Actual: 8\n",
      "Predicted: Value(data=-0.9999999999998798, grad=0.0); Actual: 1\n",
      "Predicted: Value(data=-0.9999999999998802, grad=0.0); Actual: 4\n",
      "Predicted: Value(data=-0.9999999999998792, grad=0.0); Actual: 3\n",
      "Predicted: Value(data=-0.9999999999998804, grad=0.0); Actual: 5\n",
      "Predicted: Value(data=-0.9999999999998792, grad=0.0); Actual: 2\n",
      "Predicted: Value(data=-0.9999999999998801, grad=0.0); Actual: 9\n",
      "Predicted: Value(data=-0.9999999999998792, grad=0.0); Actual: 2\n",
      "Predicted: Value(data=-0.9999999999998805, grad=0.0); Actual: 5\n",
      "Predicted: Value(data=-0.9999999999998788, grad=0.0); Actual: 8\n",
      "Predicted: Value(data=-0.9999999999998804, grad=0.0); Actual: 9\n",
      "Predicted: Value(data=-0.9999999999998804, grad=0.0); Actual: 5\n",
      "Predicted: Value(data=-0.9999999999998795, grad=0.0); Actual: 0\n",
      "Predicted: Value(data=-0.9999999999998795, grad=0.0); Actual: 1\n",
      "Predicted: Value(data=-0.9999999999998793, grad=0.0); Actual: 2\n",
      "Predicted: Value(data=-0.9999999999998797, grad=0.0); Actual: 4\n",
      "Predicted: Value(data=-0.9999999999998801, grad=0.0); Actual: 5\n",
      "Predicted: Value(data=-0.9999999999998792, grad=0.0); Actual: 6\n",
      "Predicted: Value(data=-0.9999999999998797, grad=0.0); Actual: 0\n",
      "Predicted: Value(data=-0.9999999999998795, grad=0.0); Actual: 1\n",
      "Predicted: Value(data=-0.9999999999998792, grad=0.0); Actual: 2\n",
      "Predicted: Value(data=-0.9999999999998811, grad=0.0); Actual: 3\n",
      "Predicted: Value(data=-0.99999999999988, grad=0.0); Actual: 4\n",
      "Predicted: Value(data=-0.9999999999998797, grad=0.0); Actual: 5\n",
      "Predicted: Value(data=-0.9999999999998791, grad=0.0); Actual: 6\n",
      "Predicted: Value(data=-0.9999999999998801, grad=0.0); Actual: 7\n",
      "Predicted: Value(data=-0.9999999999998792, grad=0.0); Actual: 1\n",
      "Predicted: Value(data=-0.9999999999998788, grad=0.0); Actual: 2\n",
      "Predicted: Value(data=-0.9999999999998789, grad=0.0); Actual: 3\n",
      "Predicted: Value(data=-0.9999999999998798, grad=0.0); Actual: 4\n",
      "Predicted: Value(data=-0.99999999999988, grad=0.0); Actual: 5\n",
      "Predicted: Value(data=-0.99999999999988, grad=0.0); Actual: 1\n",
      "Predicted: Value(data=-0.9999999999998792, grad=0.0); Actual: 0\n",
      "Predicted: Value(data=-0.9999999999998797, grad=0.0); Actual: 4\n",
      "Predicted: Value(data=-0.9999999999998788, grad=0.0); Actual: 5\n",
      "Predicted: Value(data=-0.9999999999998792, grad=0.0); Actual: 6\n",
      "Predicted: Value(data=-0.9999999999998797, grad=0.0); Actual: 6\n",
      "Predicted: Value(data=-0.9999999999998795, grad=0.0); Actual: 3\n",
      "Predicted: Value(data=-0.9999999999998792, grad=0.0); Actual: 4\n",
      "Predicted: Value(data=-0.9999999999998792, grad=0.0); Actual: 4\n",
      "Predicted: Value(data=-0.9999999999998792, grad=0.0); Actual: 2\n",
      "Predicted: Value(data=-0.9999999999998797, grad=0.0); Actual: 8\n",
      "Predicted: Value(data=-0.9999999999998792, grad=0.0); Actual: 1\n",
      "Predicted: Value(data=-0.9999999999998791, grad=0.0); Actual: 0\n",
      "Predicted: Value(data=-0.9999999999998792, grad=0.0); Actual: 6\n",
      "Predicted: Value(data=-0.9999999999998791, grad=0.0); Actual: 4\n",
      "Predicted: Value(data=-0.9999999999998792, grad=0.0); Actual: 9\n",
      "Predicted: Value(data=-0.9999999999998792, grad=0.0); Actual: 7\n",
      "Predicted: Value(data=-0.9999999999998791, grad=0.0); Actual: 2\n",
      "Predicted: Value(data=-0.9999999999998791, grad=0.0); Actual: 3\n",
      "Predicted: Value(data=-0.9999999999998792, grad=0.0); Actual: 3\n",
      "Predicted: Value(data=-0.9999999999998789, grad=0.0); Actual: 9\n",
      "Predicted: Value(data=-0.9999999999998792, grad=0.0); Actual: 2\n",
      "Predicted: Value(data=-0.9999999999998792, grad=0.0); Actual: 0\n",
      "Predicted: Value(data=-0.9999999999998792, grad=0.0); Actual: 9\n",
      "Predicted: Value(data=-0.9999999999998792, grad=0.0); Actual: 3\n",
      "Predicted: Value(data=-0.9999999999998792, grad=0.0); Actual: 3\n",
      "Predicted: Value(data=-0.9999999999998791, grad=0.0); Actual: 9\n",
      "Predicted: Value(data=-0.9999999999998791, grad=0.0); Actual: 1\n",
      "Predicted: Value(data=-0.9999999999998791, grad=0.0); Actual: 5\n",
      "Predicted: Value(data=-0.9999999999998792, grad=0.0); Actual: 2\n",
      "Predicted: Value(data=-0.9999999999998789, grad=0.0); Actual: 3\n",
      "Predicted: Value(data=-0.9999999999998792, grad=0.0); Actual: 7\n",
      "Predicted: Value(data=-0.9999999999998792, grad=0.0); Actual: 7\n",
      "Predicted 8 out of 100\n"
     ]
    }
   ],
   "source": [
    "test = 100\n",
    "correct = 0\n",
    "x_batch, y_batch = fetch_testing_data(test)\n",
    "for i in range(len(x_batch)):\n",
    "    pred, actual = network(x_batch[i]), int(y_batch[i])\n",
    "    print(f'Predicted: {pred}; Actual: {actual}')\n",
    "\n",
    "    if check_target(pred) == actual:\n",
    "        correct += 1\n",
    "    \n",
    "print(f'Predicted {correct} out of {test}')"
   ]
  }
 ],
 "metadata": {
  "kernelspec": {
   "display_name": ".venv",
   "language": "python",
   "name": "python3"
  },
  "language_info": {
   "codemirror_mode": {
    "name": "ipython",
    "version": 3
   },
   "file_extension": ".py",
   "mimetype": "text/x-python",
   "name": "python",
   "nbconvert_exporter": "python",
   "pygments_lexer": "ipython3",
   "version": "3.13.1"
  }
 },
 "nbformat": 4,
 "nbformat_minor": 2
}
